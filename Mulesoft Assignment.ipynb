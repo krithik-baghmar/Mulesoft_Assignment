{
 "cells": [
  {
   "cell_type": "code",
   "execution_count": null,
   "metadata": {},
   "outputs": [],
   "source": [
    "!pip install mysql"
   ]
  },
  {
   "cell_type": "code",
   "execution_count": null,
   "metadata": {},
   "outputs": [],
   "source": [
    "!pip install mysql.connector"
   ]
  },
  {
   "cell_type": "code",
   "execution_count": null,
   "metadata": {},
   "outputs": [],
   "source": [
    "!pip install mysql-connector-python"
   ]
  },
  {
   "cell_type": "code",
   "execution_count": 1,
   "metadata": {},
   "outputs": [],
   "source": [
    "import mysql.connector"
   ]
  },
  {
   "cell_type": "code",
   "execution_count": 2,
   "metadata": {},
   "outputs": [],
   "source": [
    "mydb = mysql.connector.connect(\n",
    "  host=\"localhost\",\n",
    "  user=\"root\",\n",
    "  password=\"Techno\",\n",
    "  auth_plugin=\"mysql_native_password\"\n",
    ")"
   ]
  },
  {
   "cell_type": "code",
   "execution_count": 3,
   "metadata": {},
   "outputs": [],
   "source": [
    "mycursor = mydb.cursor()"
   ]
  },
  {
   "cell_type": "code",
   "execution_count": 4,
   "metadata": {},
   "outputs": [],
   "source": [
    "mycursor.execute(\"DROP DATABASE mulesoft\")\n",
    "mycursor.execute(\"CREATE DATABASE mulesoft\")"
   ]
  },
  {
   "cell_type": "code",
   "execution_count": 5,
   "metadata": {},
   "outputs": [
    {
     "data": {
      "text/plain": [
       "True"
      ]
     },
     "execution_count": 5,
     "metadata": {},
     "output_type": "execute_result"
    }
   ],
   "source": [
    "mycursor.close()"
   ]
  },
  {
   "cell_type": "code",
   "execution_count": 6,
   "metadata": {},
   "outputs": [],
   "source": [
    "mydb = mysql.connector.connect(\n",
    "  host=\"localhost\",\n",
    "  user=\"root\",\n",
    "  password=\"Techno\",\n",
    "  auth_plugin=\"mysql_native_password\",\n",
    "  database = \"mulesoft\"\n",
    ")"
   ]
  },
  {
   "cell_type": "code",
   "execution_count": 7,
   "metadata": {},
   "outputs": [],
   "source": [
    "mycursor = mydb.cursor()"
   ]
  },
  {
   "cell_type": "code",
   "execution_count": 8,
   "metadata": {},
   "outputs": [],
   "source": [
    "mycursor.execute(\"CREATE TABLE movies (movies_name VARCHAR(255), actor_name VARCHAR(255), actress_name VARCHAR(255), director_name VARCHAR(255), year_of_release INTEGER)\");"
   ]
  },
  {
   "cell_type": "code",
   "execution_count": 9,
   "metadata": {},
   "outputs": [],
   "source": [
    "sql = \"INSERT INTO movies (movies_name, actor_name, actress_name, director_name, year_of_release) VALUES (%s, %s, %s, %s, %s)\""
   ]
  },
  {
   "cell_type": "code",
   "execution_count": 10,
   "metadata": {},
   "outputs": [],
   "source": [
    "val = (\"Phir Hera Pheri\", \"Akshay Kumar\", \"Rimi Sen\", \"Neeraj Vora\", 2006)\n",
    "mycursor.execute(sql, val)\n",
    "\n",
    "val = (\"Hum Saath Saath h\", \"Salman Khan\", \"Karishma Kapoor\", \"Sooraj Barjatya\", 1999)\n",
    "mycursor.execute(sql, val)\n",
    "\n",
    "val = (\"Hum Apke Hai Kon\", \"Salman Khan\", \"Madhuri Dixit\", \"Sooraj Barjatya\", 1994)\n",
    "mycursor.execute(sql, val)\n",
    "\n",
    "val = (\"Munna Bhai M.B.B.S.\", \"Sanjay Datt\", \"Gracy Singh\", \"Raj Kumar Hirani\", 2003)\n",
    "mycursor.execute(sql, val)\n",
    "\n",
    "val = (\"Lage Raho Munna Bhai\", \"Sanjay Datt\", \"Vidhya Balan\", \"Raj Kumar Hirani\", 2006)\n",
    "mycursor.execute(sql, val)\n",
    "\n",
    "val = (\"Singham\", \"Ajay Devgen\", \"Kajal Agarwal\", \"Rohit Shetty\", 2011)\n",
    "mycursor.execute(sql, val)\n",
    "\n",
    "val = (\"Singham Returns\", \"Ajay Devgen\", \"Kareena Kapoor\", \"Rohit Shetty\", 2014)\n",
    "mycursor.execute(sql, val)\n",
    "\n",
    "mydb.commit()\n"
   ]
  },
  {
   "cell_type": "code",
   "execution_count": 11,
   "metadata": {},
   "outputs": [
    {
     "name": "stdout",
     "output_type": "stream",
     "text": [
      "('Phir Hera Pheri', 'Akshay Kumar', 'Rimi Sen', 'Neeraj Vora', 2006)\n",
      "('Hum Saath Saath h', 'Salman Khan', 'Karishma Kapoor', 'Sooraj Barjatya', 1999)\n",
      "('Hum Apke Hai Kon', 'Salman Khan', 'Madhuri Dixit', 'Sooraj Barjatya', 1994)\n",
      "('Munna Bhai M.B.B.S.', 'Sanjay Datt', 'Gracy Singh', 'Raj Kumar Hirani', 2003)\n",
      "('Lage Raho Munna Bhai', 'Sanjay Datt', 'Vidhya Balan', 'Raj Kumar Hirani', 2006)\n",
      "('Singham', 'Ajay Devgen', 'Kajal Agarwal', 'Rohit Shetty', 2011)\n",
      "('Singham Returns', 'Ajay Devgen', 'Kareena Kapoor', 'Rohit Shetty', 2014)\n"
     ]
    }
   ],
   "source": [
    "mycursor.execute(\"SELECT * FROM movies\")\n",
    "\n",
    "myresult = mycursor.fetchall()\n",
    "\n",
    "for x in myresult:\n",
    "  print(x)"
   ]
  },
  {
   "cell_type": "code",
   "execution_count": 12,
   "metadata": {},
   "outputs": [
    {
     "name": "stdout",
     "output_type": "stream",
     "text": [
      "Akshay Kumar\n",
      "Sanjay Datt\n"
     ]
    }
   ],
   "source": [
    "mycursor.execute(\"SELECT actor_name FROM movies where year_of_release = 2006\")\n",
    "\n",
    "myresult = mycursor.fetchall()\n",
    "\n",
    "for x in myresult:\n",
    "  print(x[0])"
   ]
  },
  {
   "cell_type": "code",
   "execution_count": null,
   "metadata": {},
   "outputs": [],
   "source": []
  }
 ],
 "metadata": {
  "kernelspec": {
   "display_name": "Python 3",
   "language": "python",
   "name": "python3"
  },
  "language_info": {
   "codemirror_mode": {
    "name": "ipython",
    "version": 3
   },
   "file_extension": ".py",
   "mimetype": "text/x-python",
   "name": "python",
   "nbconvert_exporter": "python",
   "pygments_lexer": "ipython3",
   "version": "3.8.5"
  }
 },
 "nbformat": 4,
 "nbformat_minor": 4
}
